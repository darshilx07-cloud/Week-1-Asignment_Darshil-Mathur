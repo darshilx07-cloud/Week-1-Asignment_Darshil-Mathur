{
 "cells": [
  {
   "cell_type": "markdown",
   "id": "ea76f1d2-07b6-412e-a58a-cc0667bcdef7",
   "metadata": {},
   "source": [
    "# Python Basics Questions Answers"
   ]
  },
  {
   "cell_type": "raw",
   "id": "4c92b8a7-4913-4de2-9910-5d836e49eafc",
   "metadata": {},
   "source": []
  },
  {
   "cell_type": "markdown",
   "id": "529e48e6-37b2-47ae-88df-de9011e4a261",
   "metadata": {},
   "source": [
    "### 1. What is Python, and why is it popular?\n",
    "\n",
    "-> Python is a Programming Language which creating instruction for computer to follow the given commands. It is a Set of Rules \n",
    "and Symbols that defines the process of writting computer programme.\n",
    "\n",
    "-> Python is popular as a programming language because :\n",
    "\n",
    "  1) It is Easy to Use.\n",
    "  2) It algoritham is good to use.\n",
    "  3) Python as a Language is easy to learn.\n",
    "  4) Python have huge Python community.\n",
    "  5) It has good ecosystem of library (i.e. Panda, Numpy, etc.)\n",
    "  6) Versatile (web, data science, AI, etc.)"
   ]
  },
  {
   "cell_type": "raw",
   "id": "5e3d01a6-24b4-43b3-8993-6fc91c6cbdd6",
   "metadata": {},
   "source": []
  },
  {
   "cell_type": "markdown",
   "id": "d60f3705-3454-4040-b1fb-390ea18cb660",
   "metadata": {},
   "source": [
    "### 2. What is an interpreter in Python?\n",
    "\n",
    "-> Python is a Language which interpret the python code through symbols and signs on one line at a time and convert the code to the message \n",
    "at a time is called interpreter.\n",
    "\n",
    "for e.g. : you type code - print(\"HELLO WORLD\") and after taking input of codes and symbols then message will creates is called interpreat.\n",
    "\n",
    "The interpreter:\n",
    "\n",
    " 1) Reads the line.\n",
    " 2) Translates it to bytecode (if using CPython).\n",
    " 3) Executes the bytecode to print the message."
   ]
  },
  {
   "cell_type": "raw",
   "id": "d470d85d-f39a-46d2-9e13-5eba198a6cb6",
   "metadata": {},
   "source": []
  },
  {
   "cell_type": "markdown",
   "id": "84d36b19-cd18-4274-ab92-9fc03702e542",
   "metadata": {},
   "source": [
    "### 3. What are pre-defined keywords in Python?\n",
    "\n",
    "-> Pre defined keywords is nothing but the words which helps to run the code or it will start from first word of the sentence.\n",
    "Without inputing Pre-defined keywords python will show you an error. \n",
    "\n",
    "the pre-defineds keywords list are : "
   ]
  },
  {
   "cell_type": "code",
   "execution_count": 3,
   "id": "7c557904-7ca2-4744-9af8-83cfd1a618f9",
   "metadata": {},
   "outputs": [
    {
     "name": "stdout",
     "output_type": "stream",
     "text": [
      "\n",
      "Here is a list of the Python keywords.  Enter any keyword to get more help.\n",
      "\n",
      "False               class               from                or\n",
      "None                continue            global              pass\n",
      "True                def                 if                  raise\n",
      "and                 del                 import              return\n",
      "as                  elif                in                  try\n",
      "assert              else                is                  while\n",
      "async               except              lambda              with\n",
      "await               finally             nonlocal            yield\n",
      "break               for                 not                 \n",
      "\n"
     ]
    }
   ],
   "source": [
    "help (\"keywords\")"
   ]
  },
  {
   "cell_type": "raw",
   "id": "9921f917-ec21-4ff1-8b04-0328f2da4365",
   "metadata": {},
   "source": []
  },
  {
   "cell_type": "markdown",
   "id": "01da1ad9-b099-4157-93ff-d2b775823028",
   "metadata": {},
   "source": [
    "### 4. Can keywords be used as variable names?\n",
    "\n",
    "-> No, keywords cannot be used as variable names in Python.\n",
    "\n",
    "-> Python keywords are are special reserved words that have specific meanings in the language. They are used to define the \n",
    "syntax and structure of Python programs (i.e.  if, for, while, class, def, True, None, etc.)\n",
    "\n",
    "-> It will show an syntax error."
   ]
  },
  {
   "cell_type": "code",
   "execution_count": 8,
   "id": "96cb78b8-3363-49e3-9a26-00997a1be9f7",
   "metadata": {},
   "outputs": [
    {
     "ename": "SyntaxError",
     "evalue": "invalid syntax (3724825835.py, line 3)",
     "output_type": "error",
     "traceback": [
      "  \u001b[36mCell\u001b[39m\u001b[36m \u001b[39m\u001b[32mIn[8]\u001b[39m\u001b[32m, line 3\u001b[39m\n\u001b[31m    \u001b[39m\u001b[31mif = 5\u001b[39m\n       ^\n\u001b[31mSyntaxError\u001b[39m\u001b[31m:\u001b[39m invalid syntax\n"
     ]
    }
   ],
   "source": [
    "#for example :\n",
    "\n",
    "if = 5"
   ]
  },
  {
   "cell_type": "raw",
   "id": "1be64524-9157-44cb-9755-bceda8c8af2d",
   "metadata": {},
   "source": []
  },
  {
   "cell_type": "markdown",
   "id": "9970eace-c044-4038-bb54-35614d1ea121",
   "metadata": {},
   "source": [
    "### 5. What is mutability in Python?\n",
    "\n",
    "-> Mutable means if you are able to change something it is called Mutable.\n",
    "\n",
    "-> Object/Container whose state or value can be change after they are created are called mutable.\n",
    "\n",
    "-> for e.g. : there are a list = [2, 2.5, None, True, \"Darshil Mathur\"], now if you want to \n",
    "update anything from the given list and if the change occurs then it is called Mutability in Python."
   ]
  },
  {
   "cell_type": "raw",
   "id": "e8a2bb91-d39e-4e86-9904-b85fb82d92a6",
   "metadata": {},
   "source": []
  },
  {
   "cell_type": "markdown",
   "id": "0d7081c7-5237-45b0-ad4b-efeff10bc84a",
   "metadata": {},
   "source": [
    "### 6.  Why are lists mutable, but tuples are immutable?\n",
    "\n",
    "-> In python the mutable list will be change, remove, update etc. after the creation of list. But Truple are immutable it will not\n",
    "changeble, update after the creation.\n",
    "\n",
    "-> List are mutable because it is flexible, you might to change the data & grow the collection.\n",
    "\n",
    "-> Tuples are immutable because they are meant to be fixed and reliable, one tuple will create then it will not change which make \n",
    "them safer and faster for some operations. "
   ]
  },
  {
   "cell_type": "raw",
   "id": "2404d6c1-85bc-46ab-83db-8bf36a320523",
   "metadata": {},
   "source": []
  },
  {
   "cell_type": "markdown",
   "id": "4dbcc97c-0d30-4dad-b3d7-2995d86611fd",
   "metadata": {},
   "source": [
    "### 7. What is the difference between “==” and “is” operators in Python?\n",
    "\n",
    "-> \"==\" checks value equality (do the values are match or not?).\n",
    "\n",
    "-> \"is\" checks identity (are both references pointing to the same object in memory or not?)"
   ]
  },
  {
   "cell_type": "raw",
   "id": "f45acb4e-3e97-4651-a523-ee2117c50cba",
   "metadata": {},
   "source": []
  },
  {
   "cell_type": "markdown",
   "id": "710f7dff-5797-4826-9b15-4c379bfc379b",
   "metadata": {},
   "source": [
    "### 8. What are logical operators in Python?\n",
    "\n",
    "-> Logical operators in Python are used to combine conditional (Boolean) expressions. They return either True or False based on the logic.\n",
    "\n",
    "   1) \"and\" : True if both are True\n",
    "   2) \"or\"  : True if at least one is True\n",
    "   3) \"not\" : Inverts the boolean value"
   ]
  },
  {
   "cell_type": "raw",
   "id": "11a2a421-5f22-487d-9b62-28f7f42622b8",
   "metadata": {},
   "source": []
  },
  {
   "cell_type": "markdown",
   "id": "ab07986b-725a-409f-b643-f8c40e060911",
   "metadata": {},
   "source": [
    "### 9. What is type casting in Python?\n",
    "\n",
    "-> Type casting is converting one data type value to another, e.g., from integer to float."
   ]
  },
  {
   "cell_type": "raw",
   "id": "3959d199-9f2c-4f4d-bc80-5348b836697e",
   "metadata": {},
   "source": []
  },
  {
   "cell_type": "markdown",
   "id": "37526d34-6c49-499d-8034-3d7ef951583f",
   "metadata": {},
   "source": [
    "### 10. What is the difference between implicit and explicit type casting?\n",
    "\n",
    "-> Implicit : Done automatically by Python (e.g., int + float results in float)\n",
    "\n",
    "-> Explicit : Done manually using functions like int(), float(), str()"
   ]
  },
  {
   "cell_type": "raw",
   "id": "26515fe2-915b-442e-a17f-e460cb084ad0",
   "metadata": {},
   "source": []
  },
  {
   "cell_type": "markdown",
   "id": "96f9a1c4-d6db-4155-9321-d51dab557df6",
   "metadata": {},
   "source": [
    "### 11. What is the purpose of conditional statements in Python?\n",
    "\n",
    "-> Conditional statements allow a program to make decisions and execute different blocks of code\n",
    "based on conditions.\n",
    "\n",
    "For. example:\n",
    "    \n",
    "    1. if\n",
    "    2. elif\n",
    "    3. else\n",
    "    \n",
    "    "
   ]
  },
  {
   "cell_type": "raw",
   "id": "eb6c090b-352d-46db-97d6-19fe98d8d1b9",
   "metadata": {},
   "source": []
  },
  {
   "cell_type": "markdown",
   "id": "42de8ae2-f014-41c4-b671-b8753ec4538b",
   "metadata": {},
   "source": [
    "### 12. How does the elif statement work?\n",
    "\n",
    "-> The elif statement in Python is short for \"else if\", and it's used to check multiple conditions in an if...elif...else chain.\n",
    "\n",
    "-> How it process :\n",
    "\n",
    "    1. Python checks the first if condition.\n",
    "    2. If it's False, it checks the next elif condition.\n",
    "    3. If none of the conditions are True, it runs the optional else block."
   ]
  },
  {
   "cell_type": "raw",
   "id": "97939f6f-89c5-48e7-a45f-06697ca050c9",
   "metadata": {},
   "source": []
  },
  {
   "cell_type": "markdown",
   "id": "d238d1e2-ab3e-4edc-8702-d9063d0e3d02",
   "metadata": {},
   "source": [
    "### 13. What is the difference between for and while loops?\n",
    "\n",
    "-> for loop: Used when the number of iterations is known (e.g., looping over a list).\n",
    "\n",
    "-> while loop: Used when the loop continues until a condition becomes false (uncertain number of\n",
    "iterations)."
   ]
  },
  {
   "cell_type": "raw",
   "id": "7ca9c5ba-e73d-43be-8c1f-d79fc0788a29",
   "metadata": {},
   "source": []
  },
  {
   "cell_type": "markdown",
   "id": "f1f21c42-8ebd-421f-b91d-d6f4e6f82ee2",
   "metadata": {},
   "source": [
    "### 14. Describe a scenario where a while loop is more suitable than a for loop?\n",
    "\n",
    "-> A while loop is more suitable than a for loop when you don’t know ahead of time how many times the loop should run — \n",
    "in other words, when the loop should continue until a certain condition is met rather than for a fixed number of iterations.\n",
    "\n"
   ]
  },
  {
   "cell_type": "raw",
   "id": "514c235f-8c61-4fdc-b293-d52c3f60b9fe",
   "metadata": {},
   "source": [
    "for example :\n",
    "\n",
    "correct_password = \"Darshil1234\"\n",
    "user_input = \"\"\n",
    "\n",
    "while user_input != correct_password:\n",
    "    user_input = input(\"Enter password: \")"
   ]
  },
  {
   "cell_type": "markdown",
   "id": "c8b55835-6331-4153-a6bd-3de036a408b7",
   "metadata": {},
   "source": []
  },
  {
   "cell_type": "markdown",
   "id": "81c3280e-4717-4060-82fb-497cb055ca76",
   "metadata": {},
   "source": []
  },
  {
   "cell_type": "markdown",
   "id": "daadf003-3cca-4a9a-aa61-6a09c3c6034c",
   "metadata": {},
   "source": [
    "# Python Practical Questions Answers "
   ]
  },
  {
   "cell_type": "raw",
   "id": "42812d40-1507-43dd-b54c-cb72390c7901",
   "metadata": {},
   "source": []
  },
  {
   "cell_type": "code",
   "execution_count": 120,
   "id": "5f83254e-feca-46d0-a72f-4e29b566fcb2",
   "metadata": {},
   "outputs": [
    {
     "name": "stdout",
     "output_type": "stream",
     "text": [
      "Hello World\n"
     ]
    }
   ],
   "source": [
    "#1.Write a Python program to print \"Hello, World!\"?\n",
    "\n",
    "print(\"Hello World\")"
   ]
  },
  {
   "cell_type": "markdown",
   "id": "8bb2e959-a5b4-4611-aae5-30db954b1427",
   "metadata": {},
   "source": []
  },
  {
   "cell_type": "code",
   "execution_count": 2,
   "id": "aaae4869-4f2c-4733-ae35-a0e1bea9bf68",
   "metadata": {},
   "outputs": [
    {
     "name": "stdout",
     "output_type": "stream",
     "text": [
      "My name is Prince\n",
      "And My age is 21\n"
     ]
    }
   ],
   "source": [
    "#2 Write a Python program that displays your name and age?\n",
    "\n",
    "name=(\"Prince\")\n",
    "age=21\n",
    "print(\"My name is\",name)\n",
    "print(\"And My age is\",age)"
   ]
  },
  {
   "cell_type": "markdown",
   "id": "c0d952ee-8630-4912-8fcf-e5fd4efc4ba3",
   "metadata": {},
   "source": []
  },
  {
   "cell_type": "code",
   "execution_count": 5,
   "id": "083f4e2e-2aa3-4839-98f6-242014b43ffe",
   "metadata": {},
   "outputs": [
    {
     "name": "stdout",
     "output_type": "stream",
     "text": [
      "\n",
      "Here is a list of the Python keywords.  Enter any keyword to get more help.\n",
      "\n",
      "False               class               from                or\n",
      "None                continue            global              pass\n",
      "True                def                 if                  raise\n",
      "and                 del                 import              return\n",
      "as                  elif                in                  try\n",
      "assert              else                is                  while\n",
      "async               except              lambda              with\n",
      "await               finally             nonlocal            yield\n",
      "break               for                 not                 \n",
      "\n"
     ]
    }
   ],
   "source": [
    "#3.Write code to print all the pre-defined keywords in Python using the keyword library?\n",
    "\n",
    "help(\"keywords\")"
   ]
  },
  {
   "cell_type": "markdown",
   "id": "003929ae-eade-473c-a393-e604f35597e9",
   "metadata": {},
   "source": []
  },
  {
   "cell_type": "code",
   "execution_count": 6,
   "id": "ea0ee26c-1b90-4d97-acad-64a3515676fe",
   "metadata": {},
   "outputs": [
    {
     "name": "stdout",
     "output_type": "stream",
     "text": [
      "The given word is a python keyword\n"
     ]
    }
   ],
   "source": [
    "#4.Write a program that checks if a given word is a Python keyword?\n",
    "\n",
    "word=True\n",
    "if word == True:\n",
    "    print(\"The given word is a python keyword\")\n"
   ]
  },
  {
   "cell_type": "markdown",
   "id": "67d6c878-e516-4c32-93b1-2f470a139d46",
   "metadata": {},
   "source": []
  },
  {
   "cell_type": "code",
   "execution_count": 19,
   "id": "3cdabfc0-78b0-4c1d-9b72-0d20cd21a32c",
   "metadata": {},
   "outputs": [
    {
     "data": {
      "text/plain": [
       "[1, 2.6, (4+7j), None, True, 'DARSHIL MATHUR']"
      ]
     },
     "execution_count": 19,
     "metadata": {},
     "output_type": "execute_result"
    }
   ],
   "source": [
    "#5 Create a list and tuple in Python, and demonstrate how attempting to change an element works differently\n",
    "#for each?\n",
    "\n",
    "# 1.list\n",
    "\n",
    "list=[1, 2.6, 4+7j, None, True,\"DARSHIL MATHUR\"]\n",
    "list"
   ]
  },
  {
   "cell_type": "code",
   "execution_count": 20,
   "id": "cc19de42-d976-4f7c-a98c-0bfddd87edfe",
   "metadata": {},
   "outputs": [
    {
     "data": {
      "text/plain": [
       "3.7"
      ]
     },
     "execution_count": 20,
     "metadata": {},
     "output_type": "execute_result"
    }
   ],
   "source": [
    "list[0]=3.7 #convert the integer into float.\n",
    "list[0]"
   ]
  },
  {
   "cell_type": "code",
   "execution_count": 21,
   "id": "df640a6c-aa1c-4c45-8138-e58a42fd5b26",
   "metadata": {},
   "outputs": [
    {
     "data": {
      "text/plain": [
       "6"
      ]
     },
     "execution_count": 21,
     "metadata": {},
     "output_type": "execute_result"
    }
   ],
   "source": [
    "list[1]=6 #convert the float into integer.\n",
    "list[1]"
   ]
  },
  {
   "cell_type": "code",
   "execution_count": 22,
   "id": "cbf5489a-8db4-4e3f-982f-bcca0928179e",
   "metadata": {},
   "outputs": [],
   "source": [
    "list[2]=None #Convert complex to None.\n",
    "list[2]"
   ]
  },
  {
   "cell_type": "code",
   "execution_count": 23,
   "id": "a2e816dd-044d-466d-bf5c-89c16b19be7a",
   "metadata": {},
   "outputs": [
    {
     "data": {
      "text/plain": [
       "(2+8j)"
      ]
     },
     "execution_count": 23,
     "metadata": {},
     "output_type": "execute_result"
    }
   ],
   "source": [
    "list[3]=2+8j #Convert None to Complex.\n",
    "list[3]"
   ]
  },
  {
   "cell_type": "code",
   "execution_count": 24,
   "id": "c2910a06-ce72-40d7-a369-3c009d27e9b3",
   "metadata": {},
   "outputs": [
    {
     "data": {
      "text/plain": [
       "'DARSHIL'"
      ]
     },
     "execution_count": 24,
     "metadata": {},
     "output_type": "execute_result"
    }
   ],
   "source": [
    "list[4]=\"DARSHIL\" #Convert bool to Str.\n",
    "list[4]"
   ]
  },
  {
   "cell_type": "code",
   "execution_count": 25,
   "id": "73e59e4d-c97a-48fb-b9bf-c4c89ebdd84d",
   "metadata": {},
   "outputs": [
    {
     "data": {
      "text/plain": [
       "False"
      ]
     },
     "execution_count": 25,
     "metadata": {},
     "output_type": "execute_result"
    }
   ],
   "source": [
    "list[5]=False #Convert Str to Bool.\n",
    "list[5]"
   ]
  },
  {
   "cell_type": "code",
   "execution_count": 26,
   "id": "78a88d4b-80bb-48e4-8da1-1059eb32664b",
   "metadata": {},
   "outputs": [
    {
     "data": {
      "text/plain": [
       "[3.7, 6, None, (2+8j), 'DARSHIL', False]"
      ]
     },
     "execution_count": 26,
     "metadata": {},
     "output_type": "execute_result"
    }
   ],
   "source": [
    "list"
   ]
  },
  {
   "cell_type": "code",
   "execution_count": 27,
   "id": "e6d0e36c-d468-4e95-a2b3-91f680e830f7",
   "metadata": {},
   "outputs": [],
   "source": [
    "# 2. Tuple"
   ]
  },
  {
   "cell_type": "code",
   "execution_count": 28,
   "id": "2da956a9-0f20-43d7-b2fa-84a1061f5d72",
   "metadata": {},
   "outputs": [
    {
     "data": {
      "text/plain": [
       "(9, 5.6, None, True, (2+8j), 'DARSHIL')"
      ]
     },
     "execution_count": 28,
     "metadata": {},
     "output_type": "execute_result"
    }
   ],
   "source": [
    "tuple=(9, 5.6, None, True, 2+8j, \"DARSHIL\")\n",
    "tuple"
   ]
  },
  {
   "cell_type": "code",
   "execution_count": 32,
   "id": "44e14ade-05c8-4683-a82a-be797727a9e3",
   "metadata": {},
   "outputs": [
    {
     "ename": "TypeError",
     "evalue": "'tuple' object does not support item assignment",
     "output_type": "error",
     "traceback": [
      "\u001b[31m---------------------------------------------------------------------------\u001b[39m",
      "\u001b[31mTypeError\u001b[39m                                 Traceback (most recent call last)",
      "\u001b[36mCell\u001b[39m\u001b[36m \u001b[39m\u001b[32mIn[32]\u001b[39m\u001b[32m, line 1\u001b[39m\n\u001b[32m----> \u001b[39m\u001b[32m1\u001b[39m \u001b[38;5;28;43mtuple\u001b[39;49m\u001b[43m[\u001b[49m\u001b[32;43m0\u001b[39;49m\u001b[43m]\u001b[49m=\u001b[32m3.3\u001b[39m  \u001b[38;5;66;03m#Tuples are immutable, meaning once created, their elements cannot be changed.\u001b[39;00m\n\u001b[32m      2\u001b[39m \u001b[38;5;28mtuple\u001b[39m[\u001b[32m0\u001b[39m]\n",
      "\u001b[31mTypeError\u001b[39m: 'tuple' object does not support item assignment"
     ]
    }
   ],
   "source": [
    "tuple[0]=3.3  #Tuples are immutable, meaning once created, their elements cannot be changed.\n",
    "tuple[0]"
   ]
  },
  {
   "cell_type": "markdown",
   "id": "e4fdc9a7-2d1c-4c9a-87e3-87c1a1024cb7",
   "metadata": {},
   "source": []
  },
  {
   "cell_type": "code",
   "execution_count": 33,
   "id": "3a2d7001-eff1-4930-ab2b-4c6118ccc822",
   "metadata": {},
   "outputs": [],
   "source": [
    "#6 Write a function to demonstrate the behavior of mutable and immutable arguments?\n",
    "\n",
    "\n"
   ]
  },
  {
   "cell_type": "code",
   "execution_count": 36,
   "id": "104b9954-ca0d-4240-ad53-6aee13b0e881",
   "metadata": {},
   "outputs": [
    {
     "name": "stdin",
     "output_type": "stream",
     "text": [
      "Enter the first number:  22\n",
      "Enter the second number:  25\n"
     ]
    },
    {
     "data": {
      "text/plain": [
       "47"
      ]
     },
     "execution_count": 36,
     "metadata": {},
     "output_type": "execute_result"
    }
   ],
   "source": [
    "#7 Write a program that performs basic arithmetic operations on two user-input numbers?\n",
    "\n",
    "num1 = int(input(\"ENTER THE FIRST NUMBER: \"))\n",
    "num2 = int(input(\"ENTER THE SECOND NUMBER: \"))\n",
    "num1+num2 #ADDITION"
   ]
  },
  {
   "cell_type": "code",
   "execution_count": 39,
   "id": "d6040754-80ee-4973-8a37-f0388198accc",
   "metadata": {},
   "outputs": [
    {
     "name": "stdin",
     "output_type": "stream",
     "text": [
      "ENTER THE FIRST NUMBER:  50\n",
      "ENTER THE SECOND NUMBER:  32\n"
     ]
    },
    {
     "data": {
      "text/plain": [
       "18"
      ]
     },
     "execution_count": 39,
     "metadata": {},
     "output_type": "execute_result"
    }
   ],
   "source": [
    "num3 = int(input(\"ENTER THE FIRST NUMBER: \"))\n",
    "num4 = int(input(\"ENTER THE SECOND NUMBER: \"))\n",
    "num3 - num4  #SUBTRACTION"
   ]
  },
  {
   "cell_type": "code",
   "execution_count": 40,
   "id": "dbfaf8f0-c761-4acb-86c4-c218063ce5f5",
   "metadata": {},
   "outputs": [
    {
     "name": "stdin",
     "output_type": "stream",
     "text": [
      "ENTER THE FIRST NUMBER:  50\n",
      "ENTER THE SECOND NUMBER:  10\n"
     ]
    },
    {
     "data": {
      "text/plain": [
       "5.0"
      ]
     },
     "execution_count": 40,
     "metadata": {},
     "output_type": "execute_result"
    }
   ],
   "source": [
    "num5 = int(input(\"ENTER THE FIRST NUMBER: \"))\n",
    "num6 = int(input(\"ENTER THE SECOND NUMBER: \"))\n",
    "num5 / num6 #DIVISION"
   ]
  },
  {
   "cell_type": "code",
   "execution_count": 43,
   "id": "347ddfa9-b66a-46b2-8f62-dee6ba433301",
   "metadata": {},
   "outputs": [
    {
     "name": "stdin",
     "output_type": "stream",
     "text": [
      "ENTER THE FIRST NUMBER:  12\n",
      "ENTER THE SECOND NUMBER:  5\n"
     ]
    },
    {
     "data": {
      "text/plain": [
       "60"
      ]
     },
     "execution_count": 43,
     "metadata": {},
     "output_type": "execute_result"
    }
   ],
   "source": [
    "num7 = int(input(\"ENTER THE FIRST NUMBER: \"))\n",
    "num8 = int(input(\"ENTER THE SECOND NUMBER: \"))\n",
    "num7 * num8 #MULTIPLICATION"
   ]
  },
  {
   "cell_type": "code",
   "execution_count": 45,
   "id": "4891126f-c622-4b37-938b-2850d8c6348e",
   "metadata": {},
   "outputs": [
    {
     "name": "stdin",
     "output_type": "stream",
     "text": [
      "ENTER THE FIRST NUMBER:  2\n",
      "ENTER THE SECOND NUMBER:  5\n"
     ]
    },
    {
     "data": {
      "text/plain": [
       "32"
      ]
     },
     "execution_count": 45,
     "metadata": {},
     "output_type": "execute_result"
    }
   ],
   "source": [
    "num9 = int(input(\"ENTER THE FIRST NUMBER: \"))\n",
    "num10 = int(input(\"ENTER THE SECOND NUMBER: \"))\n",
    "num9 ** num10 #EXPONENT"
   ]
  },
  {
   "cell_type": "code",
   "execution_count": 47,
   "id": "37ae00ca-cd93-4749-814f-8daafa7011c8",
   "metadata": {},
   "outputs": [
    {
     "name": "stdin",
     "output_type": "stream",
     "text": [
      "ENTER THE FIRST NUMBER:  15\n",
      "ENTER THE SECOND NUMBER:  7\n"
     ]
    },
    {
     "data": {
      "text/plain": [
       "1"
      ]
     },
     "execution_count": 47,
     "metadata": {},
     "output_type": "execute_result"
    }
   ],
   "source": [
    "num11 = int(input(\"ENTER THE FIRST NUMBER: \"))\n",
    "num12 = int(input(\"ENTER THE SECOND NUMBER: \"))\n",
    "num11 % num12 #MODULUS"
   ]
  },
  {
   "cell_type": "raw",
   "id": "8a7c73bd-7912-4350-bd2d-331a4ac46c45",
   "metadata": {},
   "source": []
  },
  {
   "cell_type": "code",
   "execution_count": 64,
   "id": "e3a06c20-e1a1-4bde-8320-4ee2dbc13e01",
   "metadata": {},
   "outputs": [],
   "source": [
    "#8 Write a program to demonstrate the use of logical operators?\n",
    "\n",
    "# When both are True then only the output will True otherwise it will ruin False.\n",
    "# 1) AND Operator:\n",
    "\n",
    "#1) True & False\n",
    "#2) True & True\n",
    "#3) False & True\n",
    "#4) False & False"
   ]
  },
  {
   "cell_type": "code",
   "execution_count": 65,
   "id": "6b865284-e975-4a03-8660-a09accc9c4ee",
   "metadata": {},
   "outputs": [
    {
     "data": {
      "text/plain": [
       "False"
      ]
     },
     "execution_count": 65,
     "metadata": {},
     "output_type": "execute_result"
    }
   ],
   "source": [
    "True & False"
   ]
  },
  {
   "cell_type": "code",
   "execution_count": 66,
   "id": "cef2d390-2795-444b-abf3-b29c151394e4",
   "metadata": {},
   "outputs": [
    {
     "data": {
      "text/plain": [
       "True"
      ]
     },
     "execution_count": 66,
     "metadata": {},
     "output_type": "execute_result"
    }
   ],
   "source": [
    "True & True"
   ]
  },
  {
   "cell_type": "code",
   "execution_count": 67,
   "id": "f77d22d7-828b-4ee4-b903-1f1b809b96e4",
   "metadata": {},
   "outputs": [
    {
     "data": {
      "text/plain": [
       "False"
      ]
     },
     "execution_count": 67,
     "metadata": {},
     "output_type": "execute_result"
    }
   ],
   "source": [
    "False & True"
   ]
  },
  {
   "cell_type": "code",
   "execution_count": 68,
   "id": "ca62ec95-7c9d-41ba-bb36-f38ee653291b",
   "metadata": {},
   "outputs": [
    {
     "data": {
      "text/plain": [
       "False"
      ]
     },
     "execution_count": 68,
     "metadata": {},
     "output_type": "execute_result"
    }
   ],
   "source": [
    "False & False"
   ]
  },
  {
   "cell_type": "code",
   "execution_count": 69,
   "id": "c02334b8-1da9-456b-b2c1-370fe8bb23c8",
   "metadata": {},
   "outputs": [],
   "source": [
    "# 2) OR Operator:\n",
    "\n",
    "#1) True Or False\n",
    "#2) True Or True\n",
    "#3) False Or True\n",
    "#4) False Or False"
   ]
  },
  {
   "cell_type": "code",
   "execution_count": 70,
   "id": "de7a749c-762d-4862-892a-b0371fcb61d1",
   "metadata": {},
   "outputs": [
    {
     "data": {
      "text/plain": [
       "True"
      ]
     },
     "execution_count": 70,
     "metadata": {},
     "output_type": "execute_result"
    }
   ],
   "source": [
    "True | False"
   ]
  },
  {
   "cell_type": "code",
   "execution_count": 71,
   "id": "3b9b7101-32b4-482c-bc3d-ea4bb888233c",
   "metadata": {},
   "outputs": [
    {
     "data": {
      "text/plain": [
       "True"
      ]
     },
     "execution_count": 71,
     "metadata": {},
     "output_type": "execute_result"
    }
   ],
   "source": [
    "True | True"
   ]
  },
  {
   "cell_type": "code",
   "execution_count": 72,
   "id": "a8c00f50-f927-45b7-924c-ed2b023a51d0",
   "metadata": {},
   "outputs": [
    {
     "data": {
      "text/plain": [
       "True"
      ]
     },
     "execution_count": 72,
     "metadata": {},
     "output_type": "execute_result"
    }
   ],
   "source": [
    "False | True"
   ]
  },
  {
   "cell_type": "code",
   "execution_count": 73,
   "id": "31657a84-bad5-4038-8d50-c6cbae64d9c4",
   "metadata": {},
   "outputs": [
    {
     "data": {
      "text/plain": [
       "False"
      ]
     },
     "execution_count": 73,
     "metadata": {},
     "output_type": "execute_result"
    }
   ],
   "source": [
    "False | False"
   ]
  },
  {
   "cell_type": "raw",
   "id": "5fc544ff-77a3-4e74-aad5-277aadc2db4e",
   "metadata": {},
   "source": []
  },
  {
   "cell_type": "code",
   "execution_count": 79,
   "id": "111b4b89-753d-4e04-9243-fc4c52e53b29",
   "metadata": {},
   "outputs": [
    {
     "name": "stdin",
     "output_type": "stream",
     "text": [
      "ENTER THE VALUE :  56\n"
     ]
    },
    {
     "name": "stdout",
     "output_type": "stream",
     "text": [
      "<class 'str'>\n",
      "<class 'int'>\n"
     ]
    }
   ],
   "source": [
    "#9  Write a Python program to convert user input from string to integer, float, and boolean types.\n",
    "\n",
    "#1. string to integer\n",
    "value_a=input(\"ENTER THE VALUE : \")\n",
    "print(type(value_a))\n",
    "print(type(int(value_a)))"
   ]
  },
  {
   "cell_type": "code",
   "execution_count": 82,
   "id": "20751cba-6d23-4585-a119-94ccd9d68f3a",
   "metadata": {},
   "outputs": [
    {
     "name": "stdin",
     "output_type": "stream",
     "text": [
      "ENTER THE VALUE :  25\n"
     ]
    },
    {
     "name": "stdout",
     "output_type": "stream",
     "text": [
      "<class 'str'>\n",
      "<class 'float'>\n"
     ]
    }
   ],
   "source": [
    "#2. String to Float\n",
    "value_b=input(\"ENTER THE VALUE : \")\n",
    "print(type(value_b))\n",
    "print(type(float(value_b)))"
   ]
  },
  {
   "cell_type": "code",
   "execution_count": 85,
   "id": "70a8e313-484c-4412-8afd-a654e2a0035c",
   "metadata": {},
   "outputs": [
    {
     "name": "stdin",
     "output_type": "stream",
     "text": [
      "ENTER THE VALUE :  5\n"
     ]
    },
    {
     "name": "stdout",
     "output_type": "stream",
     "text": [
      "<class 'str'>\n",
      "<class 'bool'>\n"
     ]
    }
   ],
   "source": [
    "#2. String to bool\n",
    "value_c=input(\"ENTER THE VALUE : \")\n",
    "print(type(value_c))\n",
    "print(type(bool(value_c)))"
   ]
  },
  {
   "cell_type": "raw",
   "id": "33841f78-fbdd-4953-be28-74a305ad2896",
   "metadata": {},
   "source": []
  },
  {
   "cell_type": "code",
   "execution_count": 89,
   "id": "84ccc551-3a5c-4432-8cb2-7be13cf8c207",
   "metadata": {},
   "outputs": [],
   "source": [
    "#10 Write code to demonstrate type casting with list elements.\n",
    "\n",
    "#-> 1. Implicit Type Casting (Automatic)\n",
    "#Python automatically converts one data type to another when no data loss occurs."
   ]
  },
  {
   "cell_type": "code",
   "execution_count": 90,
   "id": "aea10991-006e-40d5-8485-a5f0565fb944",
   "metadata": {},
   "outputs": [
    {
     "name": "stdout",
     "output_type": "stream",
     "text": [
      "7.0\n",
      "<class 'float'>\n"
     ]
    }
   ],
   "source": [
    "a = 5                # int\n",
    "b = 2.0              # float\n",
    "result = a + b\n",
    "print(result)        # 7.0\n",
    "print(type(result))  # <class 'float'>\n"
   ]
  },
  {
   "cell_type": "code",
   "execution_count": 91,
   "id": "5e2bb0b2-40f2-494a-afa8-54f924a58571",
   "metadata": {},
   "outputs": [],
   "source": [
    "#2. Explicit Type Casting (Manual)\n",
    "#You manually convert data types using functions like:\n",
    "\n",
    "#int() – converts to integer\n",
    "#float() – converts to float\n",
    "#str() – converts to string\n",
    "#bool() – converts to boolean"
   ]
  },
  {
   "cell_type": "code",
   "execution_count": 99,
   "id": "102d2ae0-82b7-4945-823b-594b9ba3fb33",
   "metadata": {},
   "outputs": [
    {
     "name": "stdout",
     "output_type": "stream",
     "text": [
      "15\n"
     ]
    }
   ],
   "source": [
    "A1 = \"10\"\n",
    "A2 = int(A1)   # converting string to integer\n",
    "print(A2 + 5)  # Output: 15"
   ]
  },
  {
   "cell_type": "code",
   "execution_count": 101,
   "id": "02ba827f-06af-48da-8181-62a8e84fee1c",
   "metadata": {},
   "outputs": [
    {
     "name": "stdout",
     "output_type": "stream",
     "text": [
      "32.0\n"
     ]
    }
   ],
   "source": [
    "A3 = \"22\"\n",
    "A4 = float(A3)  # converting string to float\n",
    "print(A4 + 10)  # Output: 32.0"
   ]
  },
  {
   "cell_type": "code",
   "execution_count": 108,
   "id": "0f27451e-bdc6-477b-9003-ce60cc19863f",
   "metadata": {
    "scrolled": true
   },
   "outputs": [],
   "source": [
    "A5 = 123\n",
    "A6 = str(A5)  # converting integer to string"
   ]
  },
  {
   "cell_type": "code",
   "execution_count": 110,
   "id": "4558022f-bd31-492a-8ae8-3992aa5dd29a",
   "metadata": {},
   "outputs": [
    {
     "name": "stdout",
     "output_type": "stream",
     "text": [
      "1\n",
      "0\n"
     ]
    }
   ],
   "source": [
    "print(int(True))  # 1\n",
    "print(int(False)) # 0   # converting Boolean to integer."
   ]
  },
  {
   "cell_type": "raw",
   "id": "85528b58-257a-4b43-8e1d-c211b43900e2",
   "metadata": {},
   "source": []
  },
  {
   "cell_type": "code",
   "execution_count": 121,
   "id": "8931d6bb-d03c-4f00-b045-70d546a5183f",
   "metadata": {},
   "outputs": [],
   "source": [
    "#11 Write a program that checks if a number is positive, negative, or zero?\n",
    "\n",
    "#1. Check the no. is positive, negative, or zero!"
   ]
  },
  {
   "cell_type": "code",
   "execution_count": 116,
   "id": "1f35e698-d2f2-47c9-ac69-28a855beab91",
   "metadata": {},
   "outputs": [
    {
     "name": "stdin",
     "output_type": "stream",
     "text": [
      "ENTER THE NUMBER :  25\n"
     ]
    },
    {
     "name": "stdout",
     "output_type": "stream",
     "text": [
      "THE NUMBER IS POSITIVE\n"
     ]
    }
   ],
   "source": [
    "#Check the no. is positive:\n",
    "\n",
    "num=int(input(\"ENTER THE NUMBER : \"))\n",
    "if num > 0:\n",
    "    print(\"THE NUMBER IS POSITIVE\")\n",
    "elif 0>num:\n",
    "    print(\"THE NUMBER IS NEGATIVE\")\n",
    "else:\n",
    "    print(\"THE NUMBER IS ZERO\")\n",
    "\n",
    "           "
   ]
  },
  {
   "cell_type": "code",
   "execution_count": 118,
   "id": "9073d0d7-3803-48bf-a486-307a99122d24",
   "metadata": {},
   "outputs": [
    {
     "name": "stdin",
     "output_type": "stream",
     "text": [
      "ENTER THE NUMBER :  -2\n"
     ]
    },
    {
     "name": "stdout",
     "output_type": "stream",
     "text": [
      "THE NUMBER IS NEGATIVE\n"
     ]
    }
   ],
   "source": [
    "#Check the no. is negative:\n",
    "\n",
    "num=int(input(\"ENTER THE NUMBER : \"))\n",
    "if num > 0:\n",
    "    print(\"THE NUMBER IS POSITIVE\")\n",
    "elif 0>num:\n",
    "    print(\"THE NUMBER IS NEGATIVE\")\n",
    "else:\n",
    "    print(\"THE NUMBER IS ZERO\")\n"
   ]
  },
  {
   "cell_type": "code",
   "execution_count": 119,
   "id": "fbd588b8-86ff-4b68-a7c3-b3c90f0a4b6d",
   "metadata": {},
   "outputs": [
    {
     "name": "stdin",
     "output_type": "stream",
     "text": [
      "ENTER THE NUMBER :  0\n"
     ]
    },
    {
     "name": "stdout",
     "output_type": "stream",
     "text": [
      "THE NUMBER IS ZERO\n"
     ]
    }
   ],
   "source": [
    "#Check the no. is zero:\n",
    "\n",
    "num=int(input(\"ENTER THE NUMBER : \"))\n",
    "if num > 0:\n",
    "    print(\"THE NUMBER IS POSITIVE\")\n",
    "elif 0>num:\n",
    "    print(\"THE NUMBER IS NEGATIVE\")\n",
    "else:\n",
    "    print(\"THE NUMBER IS ZERO\")\n",
    "\n"
   ]
  },
  {
   "cell_type": "raw",
   "id": "fbaac55b-22cf-4c00-8274-9745786fc93d",
   "metadata": {},
   "source": []
  },
  {
   "cell_type": "code",
   "execution_count": 128,
   "id": "96506e21-8b79-43de-b322-1baaca8e4bf5",
   "metadata": {},
   "outputs": [
    {
     "name": "stdout",
     "output_type": "stream",
     "text": [
      "1\n",
      "2\n",
      "3\n",
      "4\n",
      "5\n",
      "6\n",
      "7\n",
      "8\n",
      "9\n",
      "10\n",
      "THE LOOP RUNS SUCCESSFULLY\n"
     ]
    }
   ],
   "source": [
    "#12  Write a for loop to print numbers from 1 to 10.\n",
    "\n",
    "for i in range(1, 11):\n",
    "    print(i)\n",
    "else:\n",
    "    print(\"THE LOOP RUNS SUCCESSFULLY\")"
   ]
  },
  {
   "cell_type": "raw",
   "id": "40a58a0e-14d6-4a9b-ba73-0ec0fb3553a7",
   "metadata": {},
   "source": []
  },
  {
   "cell_type": "code",
   "execution_count": 137,
   "id": "aed35b81-ab3b-4a4d-8ced-87bbc1e31bbf",
   "metadata": {},
   "outputs": [
    {
     "name": "stdout",
     "output_type": "stream",
     "text": [
      "Sum of even numbers between 1 to 50 is: 650\n"
     ]
    }
   ],
   "source": [
    "#13  Write a Python program to find the sum of all even numbers between 1 and 50?\n",
    "\n",
    "def sum_even_numbers():\n",
    "    total = 0\n",
    "    for num in range(1, 51):  # Numbers from 1 to 50\n",
    "        if num % 2 == 0:\n",
    "            total += num\n",
    "    print(\"Sum of even numbers between 1 to 50 is:\", total)\n",
    "\n",
    "sum_even_numbers()    "
   ]
  },
  {
   "cell_type": "raw",
   "id": "87aa2cdb-d85b-45dc-a107-23798953ec6e",
   "metadata": {},
   "source": []
  },
  {
   "cell_type": "code",
   "execution_count": 139,
   "id": "dfe4e9d5-a680-470d-9f75-dd485e2a90fc",
   "metadata": {},
   "outputs": [],
   "source": [
    "#14  Write a program to reverse a string using a while loop?\n",
    "\n"
   ]
  },
  {
   "cell_type": "code",
   "execution_count": 140,
   "id": "f7136252-19b0-427c-bb41-64b7bab88674",
   "metadata": {},
   "outputs": [],
   "source": [
    "#15 Write a Python program to calculate the factorial of a number provided by the user using a while loop?\n",
    "\n"
   ]
  }
 ],
 "metadata": {
  "kernelspec": {
   "display_name": "Python 3 (ipykernel)",
   "language": "python",
   "name": "python3"
  },
  "language_info": {
   "codemirror_mode": {
    "name": "ipython",
    "version": 3
   },
   "file_extension": ".py",
   "mimetype": "text/x-python",
   "name": "python",
   "nbconvert_exporter": "python",
   "pygments_lexer": "ipython3",
   "version": "3.13.3"
  }
 },
 "nbformat": 4,
 "nbformat_minor": 5
}
