{
 "cells": [
  {
   "cell_type": "markdown",
   "id": "075a8cc7-0c51-4bba-8a0c-0bf7d7d5136e",
   "metadata": {},
   "source": [
    "# Python OOPs Questions & Answers"
   ]
  },
  {
   "cell_type": "code",
   "execution_count": null,
   "id": "0def692c-3b04-4569-8579-3936d3e80d72",
   "metadata": {},
   "outputs": [],
   "source": []
  },
  {
   "cell_type": "markdown",
   "id": "a89163f2-3cde-4cde-a363-74e263545985",
   "metadata": {},
   "source": [
    "### 1. What is Object-Oriented Programming (OOP)?\n",
    "##### ---> Object-Oriented Programming (OOP) is a programming paradigm based on the \n",
    "##### concept of \"objects\", which can contain data (in the form of fields or attributes) and \n",
    "##### code (in the form of methods or functions)."
   ]
  },
  {
   "cell_type": "code",
   "execution_count": null,
   "id": "de87bef4-3eeb-4003-a2a9-430e48c8e21b",
   "metadata": {},
   "outputs": [],
   "source": []
  },
  {
   "cell_type": "markdown",
   "id": "b146624a-74cb-418f-b1c5-ad42dbeee06c",
   "metadata": {},
   "source": [
    "### 2. What is a class in OOP?\n",
    "##### ---> In Object-Oriented Programming (OOP), a class is a blueprint or template used \n",
    "##### to create objects. It defines a data structure (called fields or attributes) and \n",
    "##### the behaviors (called methods) that the objects created from the class will have.\n",
    "\n",
    "\n",
    "### Key Points:\n",
    "\n",
    "     - A class does not occupy memory until an object is created from it.\n",
    "    \n",
    "     - It defines what an object knows (its attributes) and what it does \n",
    "       (its methods).\n",
    "    \n",
    "     - Classes promote reusability, organization, and encapsulation of code"
   ]
  },
  {
   "cell_type": "code",
   "execution_count": null,
   "id": "a4fb15c5-e640-43d0-b558-9ceca546a163",
   "metadata": {},
   "outputs": [],
   "source": []
  },
  {
   "cell_type": "markdown",
   "id": "6f79b60c-a625-457e-b910-1a005abef2d7",
   "metadata": {},
   "source": [
    "### 3. What is an object in OOP?\n",
    "\n",
    "##### ---> In Object-Oriented Programming (OOP), an object is a real-world entity or instance of a \n",
    "##### class. It represents a specific version of a class with actual values stored in memory."
   ]
  },
  {
   "cell_type": "code",
   "execution_count": null,
   "id": "3c41c395-3fea-4be2-9f5c-2ef3b7ede412",
   "metadata": {},
   "outputs": [],
   "source": []
  },
  {
   "cell_type": "markdown",
   "id": "1025957d-1b55-421b-878a-f0e407da70ce",
   "metadata": {},
   "source": [
    "### 4. What is the difference between abstraction and encapsulation?\n",
    "\n",
    "##### ---> The terms abstraction and encapsulation are both fundamental to Object-Oriented \n",
    "##### Programming (OOP), but they serve different purposes\n",
    "\n",
    "### In Simple Terms:\n",
    "\n",
    "##### Abstraction = Hide unnecessary details, show only relevant parts.\n",
    "\n",
    "##### Encapsulation = Hide the internal data, allow controlled access."
   ]
  },
  {
   "cell_type": "code",
   "execution_count": null,
   "id": "bdf46b81-f51f-4195-9bde-38af54be281a",
   "metadata": {},
   "outputs": [],
   "source": []
  },
  {
   "cell_type": "markdown",
   "id": "c9fe9246-39c7-467a-9c49-159a13728152",
   "metadata": {},
   "source": [
    "### 5. What are dunder methods in Python?\n",
    "\n",
    "##### ---> Dunder methods (short for \"double underscore methods\") are special methods in Python \n",
    "##### that begin and end with double underscores (__). They're also known as magic methods \n",
    "##### or special methods."
   ]
  },
  {
   "cell_type": "code",
   "execution_count": null,
   "id": "e853ef1f-7c1c-4d6e-954a-65ad600bb4d6",
   "metadata": {},
   "outputs": [],
   "source": []
  },
  {
   "cell_type": "markdown",
   "id": "d8dd282d-38ae-42c5-b0be-be8307ef1308",
   "metadata": {},
   "source": [
    "### 6. Explain the concept of inheritance in OOP?\n",
    "\n",
    "##### ---> Inheritance is a fundamental concept in Object-Oriented Programming (OOP) \n",
    "##### that allows a class (child or subclass) to inherit properties and behaviors (attributes and\n",
    "##### methods) from another class (parent or superclass)."
   ]
  },
  {
   "cell_type": "code",
   "execution_count": null,
   "id": "27607cf4-04a6-48f4-8b6a-653b758b74b1",
   "metadata": {},
   "outputs": [],
   "source": []
  },
  {
   "cell_type": "markdown",
   "id": "eb10c42c-4b2f-4941-b41f-51d20cdd5898",
   "metadata": {},
   "source": [
    "### 7. What is polymorphism in OOP?\n",
    "\n",
    "##### ---> Polymorphism in Object-Oriented Programming (OOP) means \"many forms\". It \n",
    "##### allows objects of different classes to be treated as objects of a common superclass,\n",
    "#####  and enables the same operation or method name to behave differently based on the\n",
    "##### object that invokes it."
   ]
  },
  {
   "cell_type": "code",
   "execution_count": null,
   "id": "ee23ad09-14e2-4444-bc76-af3e4f43effc",
   "metadata": {},
   "outputs": [],
   "source": []
  },
  {
   "cell_type": "markdown",
   "id": "2dca518e-1cee-4245-9b41-c9dcc54c373c",
   "metadata": {},
   "source": [
    "### 8. How is encapsulation achieved in Python?\n",
    "\n",
    "##### ---> Encapsulation is the bundling of data (attributes) and methods (functions) \n",
    "##### that operate on that data into a single unit (class), while restricting direct access to some \n",
    "##### of the object's components to protect the integrity of the data."
   ]
  },
  {
   "cell_type": "code",
   "execution_count": null,
   "id": "d005dc16-8812-40a6-8856-a9d844e50d08",
   "metadata": {},
   "outputs": [],
   "source": []
  },
  {
   "cell_type": "markdown",
   "id": "5faa0be7-03b5-4c42-8f27-ea55412a58e3",
   "metadata": {},
   "source": [
    "### 9. What is a constructor in Python?\n",
    "\n",
    "##### ---> A constructor in Python is a special method used to initialize a newly \n",
    "##### created object of a class. It is automatically called when a new object is created."
   ]
  },
  {
   "cell_type": "code",
   "execution_count": null,
   "id": "74d07d50-57a8-483e-8879-a87958004634",
   "metadata": {},
   "outputs": [],
   "source": []
  },
  {
   "cell_type": "markdown",
   "id": "b7be3077-56af-4c49-a30b-840db22e0c2a",
   "metadata": {},
   "source": [
    "### 10. What are class and static methods in Python?\n",
    "\n",
    "##### ---> Both class methods and static methods are special types of methods in Python \n",
    "##### that are defined using decorators and are not the same as instance methods. They are used for \n",
    "##### purposes where instance-specific behavior is not required.\n",
    "\n",
    "### 1) Class Method :\n",
    "##### A class method is bound to the class, not the object. It can access or modify \n",
    "##### class state (like class variables) using cls.\n",
    "\n",
    "### 2) Static Method :\n",
    "##### A static method is not bound to instance or class. It behaves like a regular \n",
    "##### function, but is placed inside the class for logical grouping."
   ]
  },
  {
   "cell_type": "code",
   "execution_count": null,
   "id": "85172015-2f21-46ed-8876-5ee60a39c322",
   "metadata": {},
   "outputs": [],
   "source": []
  },
  {
   "cell_type": "markdown",
   "id": "d4e1bfe3-ac0f-46bd-ba9e-b5dcdab02c36",
   "metadata": {},
   "source": [
    "### 11. What is method overloading in Python?\n",
    "\n",
    "##### ---> Method overloading in Python refers to the ability to define multiple methods \n",
    "##### with the same name but different parameters within the same class.\n",
    "\n",
    "#### Briefly :\n",
    "##### Python does not support traditional method overloading like some other languages \n",
    "##### (e.g., Java). Instead, you can achieve similar behavior by using default arguments, *args, \n",
    "##### or checking argument types inside a single method."
   ]
  },
  {
   "cell_type": "code",
   "execution_count": null,
   "id": "aa2968f5-d074-456d-993a-be644870e0a7",
   "metadata": {},
   "outputs": [],
   "source": []
  },
  {
   "cell_type": "markdown",
   "id": "0a48b24b-2c5a-401c-a778-4b3051c1ddf0",
   "metadata": {},
   "source": [
    "### 12.  What is method overriding in OOP?\n",
    "\n",
    "##### ---> Method overriding occurs when a subclass (child class) provides its own specific \n",
    "##### implementation of a method that is already defined in its superclass (parent class)."
   ]
  },
  {
   "cell_type": "code",
   "execution_count": null,
   "id": "df0d29cf-4eb3-4a4e-b3ff-1fe1a680244c",
   "metadata": {},
   "outputs": [],
   "source": []
  },
  {
   "cell_type": "markdown",
   "id": "c467d877-3adf-4162-9532-9889af2c030f",
   "metadata": {},
   "source": [
    "### 13. What is a property decorator in Python?\n",
    "\n",
    "##### ---> The @property decorator in Python is a way to define methods that behave like attributes. \n",
    "##### It allows you to access methods as if they were attributes, enabling controlled access to instance \n",
    "##### variables while keeping the syntax simple and clean."
   ]
  },
  {
   "cell_type": "code",
   "execution_count": null,
   "id": "8ce65b63-d61f-4719-88fd-3f0db4f91979",
   "metadata": {},
   "outputs": [],
   "source": []
  },
  {
   "cell_type": "markdown",
   "id": "f0c7f58c-7bf1-4100-b396-b7021a8aa7dd",
   "metadata": {},
   "source": [
    "### 14. Why is polymorphism important in OOP?\n",
    "\n",
    "##### ---> Polymorphism is important in OOP because it enables flexibility and extensibility\n",
    "#####  in code by allowing objects of different classes to be treated through a common \n",
    "##### interface.  This means you can write more generic and reusable code that works with different \n",
    "##### object types, while each object can behave differently when the same method is called."
   ]
  },
  {
   "cell_type": "code",
   "execution_count": null,
   "id": "7dafa898-e81c-4a78-a276-944d9af2a385",
   "metadata": {},
   "outputs": [],
   "source": []
  },
  {
   "cell_type": "markdown",
   "id": "ecd1dbeb-bb9b-4720-b27b-aea3ef5f328d",
   "metadata": {},
   "source": [
    "### 15. What is an abstract class in Python?\n",
    "\n",
    "##### ---> An abstract class is a class that cannot be instantiated directly and is meant to be a \n",
    "##### blueprint for other classes. It can define abstract methods that must be implemented by \n",
    "##### any subclass, ensuring a certain interface or behavior."
   ]
  },
  {
   "cell_type": "code",
   "execution_count": null,
   "id": "10e3f4c7-36a7-4989-8086-1006f9829f32",
   "metadata": {},
   "outputs": [],
   "source": []
  },
  {
   "cell_type": "markdown",
   "id": "5c68422d-343c-4b24-a4fb-fb6f456643b0",
   "metadata": {},
   "source": [
    "### 16. What are the advantages of OOP?\n",
    "\n",
    "##### ---> Advantages of Object-Oriented Programming (OOP) are: \n",
    "###### 1) Modularity\n",
    "###### 2) Reusability\n",
    "###### 3) Scalability\n",
    "###### 4) Encapsulation\n",
    "###### 5) Abstraction\n",
    "###### 6) Polymorphism\n",
    "###### 7) Improved Maintainability\n",
    "###### 8) Real-World Modeling"
   ]
  },
  {
   "cell_type": "code",
   "execution_count": null,
   "id": "53967017-6a81-47eb-a522-a3bd0539dbbe",
   "metadata": {},
   "outputs": [],
   "source": []
  },
  {
   "cell_type": "markdown",
   "id": "28bcde34-5f8b-45ce-9764-7a3390e522eb",
   "metadata": {},
   "source": [
    "### 17. What is the difference between a class variable and an instance variable?\n",
    "\n",
    "##### ---> Class variables : are shared by all instances of the class. Changing a class variable  \n",
    "##### affects all instances.\n",
    "\n",
    "###### .\n",
    "\n",
    "##### ---> Instance variables : are unique to each instance. Changing one instance’s variable  \n",
    "##### does not affect others."
   ]
  },
  {
   "cell_type": "code",
   "execution_count": null,
   "id": "8f6416e3-f780-4f44-802f-7b8e6383430e",
   "metadata": {},
   "outputs": [],
   "source": []
  },
  {
   "cell_type": "markdown",
   "id": "33c7acf0-d6e1-4c55-8d65-1ae805e28c80",
   "metadata": {},
   "source": [
    "### 18.  What is multiple inheritance in Python?\n",
    "\n",
    "##### ---> Multiple inheritance is a feature in Python where a class can inherit attributes and \n",
    "##### methods from more than one parent class.\n",
    "\n",
    "#### Key Points:\n",
    "\n",
    "    1) A subclass can have more than one superclass.\n",
    "    2) It inherits features from all parent classes.\n",
    "    3) Used to combine behaviors and attributes from multiple sources.\n",
    "    4) Can lead to complexity like the Diamond Problem, but Python uses Method Resolution Order (MRO) to handle it.\n",
    "\n"
   ]
  },
  {
   "cell_type": "code",
   "execution_count": null,
   "id": "6c615545-dc68-4378-a008-c9b420cc267a",
   "metadata": {},
   "outputs": [],
   "source": []
  },
  {
   "cell_type": "markdown",
   "id": "bb4a55f8-4fff-41cf-b9f4-59e4a8eacd6c",
   "metadata": {},
   "source": [
    "### 19. Explain the purpose of ‘’__str__’ and ‘__repr__’ ‘ methods in Python?\n",
    "\n",
    "##### ---> Purpose of __str__ and __repr__ Methods in Python : \n",
    "\n",
    "##### Both __str__ and __repr__ are special dunder methods used to define string representations of \n",
    "##### Python objects, but they serve different purposes:\n",
    "\n",
    "### 1) . __repr__\n",
    "\n",
    "    1) Goal: Provide an unambiguous string representation of the object, ideally one that could be used to recreate the object (or at least give detailed debugging info).\n",
    "    \n",
    "    2) Used by: The built-in repr() function and when you inspect the object in the interpreter.\n",
    "    \n",
    "    3) Typical use case: For developers, debugging, logging.\n",
    "\n",
    "### 2) __str__\n",
    "\n",
    "    1) Goal: Provide a readable, user-friendly string representation of the object.\n",
    "    \n",
    "    2) Used by: The built-in str() function and when you use print() on the object.\n",
    "    \n",
    "    3) Typical use case: For end-users, display purposes.\n",
    "    \n"
   ]
  },
  {
   "cell_type": "code",
   "execution_count": null,
   "id": "b05af549-9d70-428f-8594-f9c9f06cb36d",
   "metadata": {},
   "outputs": [],
   "source": []
  },
  {
   "cell_type": "markdown",
   "id": "1b81c41f-e649-423a-a79d-d4f6eeb2d140",
   "metadata": {},
   "source": [
    "### 20.  What is the significance of the ‘super()’ function in Python?\n",
    "\n",
    "##### ---> The super() function is used to call methods from a parent (super) class inside a subclass. \n",
    "##### It helps you access inherited methods without explicitly naming the parent class, making\n",
    "##### your code more maintainable and supporting multiple inheritance cleanly."
   ]
  },
  {
   "cell_type": "markdown",
   "id": "599d2560-5b92-4286-8720-22de9e872c0c",
   "metadata": {},
   "source": []
  },
  {
   "cell_type": "markdown",
   "id": "dd441791-dcda-4ae5-acc4-f1d5b815d19e",
   "metadata": {},
   "source": [
    "### 21. What is the significance of the __del__ method in Python?\n",
    "\n",
    "##### ---> The __del__ method is a special destructor method in Python. It is called when an object is \n",
    "##### about to be destroyed—that is, when the object’s reference count reaches zero and \n",
    "##### Python’s garbage collector is about to reclaim its memory. "
   ]
  },
  {
   "cell_type": "code",
   "execution_count": null,
   "id": "b601a12f-6626-494d-981f-8171b0426c94",
   "metadata": {},
   "outputs": [],
   "source": []
  },
  {
   "cell_type": "markdown",
   "id": "a49b6955-6770-40e8-a5ce-23668454cc2d",
   "metadata": {},
   "source": [
    "### 22. What is the difference between @staticmethod and @classmethod in Python?\n",
    "\n",
    "##### --> @staticmethod: Just a regular function placed inside a class for organization. No access to \n",
    "##### class or instance data.\n",
    "\n",
    "###### .\n",
    "\n",
    "##### ---> @classmethod: Receives the class as the first argument and can access or modify class state."
   ]
  },
  {
   "cell_type": "code",
   "execution_count": null,
   "id": "edfc2e52-6153-4ce2-a4cd-a68e5116df18",
   "metadata": {},
   "outputs": [],
   "source": []
  },
  {
   "cell_type": "markdown",
   "id": "9f38c47b-8898-48f2-9213-7fa221bd6055",
   "metadata": {},
   "source": [
    "### 23. How does polymorphism work in Python with inheritance?\n",
    "\n",
    "##### ---> Polymorphism means “many forms.” In OOP, it allows different classes to be treated  \n",
    "##### through the same interface, especially when they share a common superclass.\n",
    "\n",
    "###### .\n",
    "\n",
    "##### ---> When classes inherit from a common parent class, polymorphism lets you call the same  \n",
    "##### method on objects of different classes, and each object responds in its own way."
   ]
  },
  {
   "cell_type": "code",
   "execution_count": null,
   "id": "065220e0-9f6f-4a58-8202-09e0d853949d",
   "metadata": {},
   "outputs": [],
   "source": []
  },
  {
   "cell_type": "markdown",
   "id": "e8bba76c-2a48-4e4b-8ef3-bd56f664a5ba",
   "metadata": {},
   "source": [
    "### 24.  What is method chaining in Python OOP?\n",
    "\n",
    "##### --->Method chaining is a technique where multiple method calls are linked together in a single \n",
    "##### statement, one after another, by having each method return the object itself (self). This allows \n",
    "##### you to write cleaner and more fluent code."
   ]
  },
  {
   "cell_type": "code",
   "execution_count": null,
   "id": "0c2afa91-8425-4b5a-b8a9-54cbeed5f8ff",
   "metadata": {},
   "outputs": [],
   "source": []
  },
  {
   "cell_type": "markdown",
   "id": "ac5bfb17-57c3-4d16-88ff-6cff94b818f0",
   "metadata": {},
   "source": [
    "### 25. What is the purpose of the __call__ method in Python?\n",
    "\n",
    "##### ---> The __call__ method allows an instance of a class to be called like a regular function. When \n",
    "##### you define __call__ in a class, you can use parentheses () on an instance to execute that method.\n",
    "\n",
    "###### . \n",
    "\n",
    "### Why use __call__?\n",
    "\n",
    "    1) To make objects callable, providing function-like behavior.\n",
    "    \n",
    "    2) Useful for objects that act like functions but also maintain state or configuration.\n",
    "    \n",
    "    3) Can make APIs cleaner and more intuitive."
   ]
  },
  {
   "cell_type": "code",
   "execution_count": null,
   "id": "28683326-bf76-44c8-8643-fb1e63142ae4",
   "metadata": {},
   "outputs": [],
   "source": []
  },
  {
   "cell_type": "code",
   "execution_count": null,
   "id": "07da79b3-592f-45d2-a5f7-2e7ed9340580",
   "metadata": {},
   "outputs": [],
   "source": []
  },
  {
   "cell_type": "markdown",
   "id": "a4a75583-353a-4c11-b83c-5a355d5329e2",
   "metadata": {},
   "source": [
    "# Practical Questions"
   ]
  },
  {
   "cell_type": "code",
   "execution_count": null,
   "id": "b3dbefe9-29b6-4043-bae5-a287e808f36a",
   "metadata": {},
   "outputs": [],
   "source": []
  },
  {
   "cell_type": "code",
   "execution_count": 2,
   "id": "71febc39-3f96-4fe0-9239-3e2a09bb1be0",
   "metadata": {},
   "outputs": [
    {
     "name": "stdout",
     "output_type": "stream",
     "text": [
      "This animal makes a sound.\n",
      "Bark!\n"
     ]
    }
   ],
   "source": [
    "# 1) Create a parent class Animal with a method speak() that prints a generic message. \n",
    "# Create a child class Dog that overrides the speak() method to print \"Bark!\".\n",
    "\n",
    "class Animal:\n",
    "    def speak(self):\n",
    "        print(\"This animal makes a sound.\")\n",
    "\n",
    "class Dog(Animal):\n",
    "    def speak(self):\n",
    "        print(\"Bark!\")\n",
    "\n",
    "# Example usage:\n",
    "animal = Animal()\n",
    "animal.speak()  # Output: This animal makes a sound.\n",
    "\n",
    "dog = Dog()\n",
    "dog.speak()     # Output: Bark!\n"
   ]
  },
  {
   "cell_type": "code",
   "execution_count": null,
   "id": "da564be8-63ff-45b5-afd0-fd61dbacd1e1",
   "metadata": {},
   "outputs": [],
   "source": []
  },
  {
   "cell_type": "code",
   "execution_count": 3,
   "id": "cc29b50a-098e-4d9f-969e-8f8cea5842c2",
   "metadata": {},
   "outputs": [
    {
     "name": "stdout",
     "output_type": "stream",
     "text": [
      "Circle area: 78.54\n",
      "Rectangle area: 28\n"
     ]
    }
   ],
   "source": [
    "# 2)   Write a program to create an abstract class Shape with a method area(). Derive \n",
    "# classes Circle and Rectangle from it and implement the area() method in both?\n",
    "\n",
    "from abc import ABC, abstractmethod\n",
    "import math\n",
    "\n",
    "class Shape(ABC):\n",
    "    @abstractmethod\n",
    "    def area(self):\n",
    "        pass  # Abstract method\n",
    "\n",
    "class Circle(Shape):\n",
    "    def __init__(self, radius):\n",
    "        self.radius = radius\n",
    "\n",
    "    def area(self):\n",
    "        return math.pi * (self.radius ** 2)\n",
    "\n",
    "class Rectangle(Shape):\n",
    "    def __init__(self, width, height):\n",
    "        self.width = width\n",
    "        self.height = height\n",
    "\n",
    "    def area(self):\n",
    "        return self.width * self.height\n",
    "\n",
    "circle = Circle(5)\n",
    "rectangle = Rectangle(4, 7)\n",
    "\n",
    "print(f\"Circle area: {circle.area():.2f}\")     \n",
    "print(f\"Rectangle area: {rectangle.area()}\") \n",
    "\n"
   ]
  },
  {
   "cell_type": "code",
   "execution_count": null,
   "id": "60eeec15-5230-407f-b51c-717f86ece4e4",
   "metadata": {},
   "outputs": [],
   "source": []
  },
  {
   "cell_type": "code",
   "execution_count": 4,
   "id": "3c1daf76-8863-41e1-9f96-b7992e1c9c66",
   "metadata": {},
   "outputs": [
    {
     "name": "stdout",
     "output_type": "stream",
     "text": [
      "Vehicle type: Electric\n",
      "Car brand: Maruti Suzuki India Limited\n",
      "Battery capacity: 75 kWh\n"
     ]
    }
   ],
   "source": [
    "# 3) Implement a multi-level inheritance scenario where a class Vehicle has an attribute \n",
    "# type. Derive a class Car and further derive a class ElectricCar that adds a battery \n",
    "# attribute? \n",
    "\n",
    "# Base class\n",
    "class Vehicle:\n",
    "    def __init__(self, vehicle_type):\n",
    "        self.type = vehicle_type\n",
    "\n",
    "    def display_type(self):\n",
    "        print(f\"Vehicle type: {self.type}\")\n",
    "\n",
    "# Derived class from Vehicle\n",
    "class Car(Vehicle):\n",
    "    def __init__(self, vehicle_type, brand):\n",
    "        super().__init__(vehicle_type)  # Call Vehicle's constructor\n",
    "        self.brand = brand\n",
    "\n",
    "    def display_brand(self):\n",
    "        print(f\"Car brand: {self.brand}\")\n",
    "\n",
    "# Further derived class from Car\n",
    "class ElectricCar(Car):\n",
    "    def __init__(self, vehicle_type, brand, battery_capacity):\n",
    "        super().__init__(vehicle_type, brand)  # Call Car's constructor\n",
    "        self.battery = battery_capacity\n",
    "\n",
    "    def display_battery(self):\n",
    "        print(f\"Battery capacity: {self.battery} kWh\")\n",
    "\n",
    "# Example usage\n",
    "ev = ElectricCar(\"Electric\", \"Maruti Suzuki India Limited\", 75)\n",
    "ev.display_type()      \n",
    "ev.display_brand()     \n",
    "ev.display_battery()   # Output: Battery capacity: 75 kWh\n"
   ]
  },
  {
   "cell_type": "code",
   "execution_count": null,
   "id": "3ddfa369-0229-48fd-a836-139055767550",
   "metadata": {},
   "outputs": [],
   "source": []
  },
  {
   "cell_type": "code",
   "execution_count": 5,
   "id": "e4bdb18e-b484-4487-97d9-8c2393675d9b",
   "metadata": {},
   "outputs": [
    {
     "name": "stdout",
     "output_type": "stream",
     "text": [
      "Sparrow flies high in the sky.\n",
      "Penguins cannot fly, but they swim well.\n"
     ]
    }
   ],
   "source": [
    "# 4) Demonstrate polymorphism by creating a base class Bird with a method fly(). \n",
    "# Create two derived classes Sparrow and Penguin that override the fly() method?\n",
    "\n",
    "# Base class\n",
    "class Bird:\n",
    "    def fly(self):\n",
    "        print(\"Some bird is flying.\")\n",
    "\n",
    "# Derived class\n",
    "class Sparrow(Bird):\n",
    "    def fly(self):\n",
    "        print(\"Sparrow flies high in the sky.\")\n",
    "\n",
    "# Derived class\n",
    "class Penguin(Bird):\n",
    "    def fly(self):\n",
    "        print(\"Penguins cannot fly, but they swim well.\")\n",
    "\n",
    "# Function that demonstrates polymorphism\n",
    "def bird_flight(bird: Bird):\n",
    "    bird.fly()\n",
    "\n",
    "# Example usage\n",
    "sparrow = Sparrow()\n",
    "penguin = Penguin()\n",
    "\n",
    "bird_flight(sparrow)   # Output: Sparrow flies high in the sky.\n",
    "bird_flight(penguin)   # Output: Penguins cannot fly, but they swim well.\n",
    "\n"
   ]
  },
  {
   "cell_type": "code",
   "execution_count": null,
   "id": "7d81e387-96c6-45fb-ad3a-ffca5b90fb82",
   "metadata": {},
   "outputs": [],
   "source": []
  },
  {
   "cell_type": "code",
   "execution_count": 6,
   "id": "5e33cbd8-1571-4a72-bd71-7505d6961d78",
   "metadata": {},
   "outputs": [
    {
     "name": "stdout",
     "output_type": "stream",
     "text": [
      "Current balance: ₹100000\n",
      "Deposited: ₹5000\n",
      "Withdrawn: ₹30000\n",
      "Current balance: ₹75000\n"
     ]
    }
   ],
   "source": [
    "# 5) Write a program to demonstrate encapsulation by creating a class BankAccount with \n",
    "# private attributes balance and methods to deposit, withdraw, and check balance?\n",
    "\n",
    "class BankAccount:\n",
    "    def __init__(self, initial_balance=0):\n",
    "        self.__balance = initial_balance  # Private attribute\n",
    "\n",
    "    def deposit(self, amount):\n",
    "        if amount > 0:\n",
    "            self.__balance += amount\n",
    "            print(f\"Deposited: ₹{amount}\")\n",
    "        else:\n",
    "            print(\"Invalid deposit amount.\")\n",
    "\n",
    "    def withdraw(self, amount):\n",
    "        if 0 < amount <= self.__balance:\n",
    "            self.__balance -= amount\n",
    "            print(f\"Withdrawn: ₹{amount}\")\n",
    "        else:\n",
    "            print(\"Invalid or insufficient funds.\")\n",
    "\n",
    "    def check_balance(self):\n",
    "        print(f\"Current balance: ₹{self.__balance}\")\n",
    "\n",
    "# Example usage\n",
    "account = BankAccount(100000)\n",
    "account.check_balance()     # Output: Current balance: ₹100\n",
    "account.deposit(5000)         # Output: Deposited: ₹50\n",
    "account.withdraw(30000)        # Output: Withdrawn: ₹30\n",
    "account.check_balance()     # Output: Current balance: ₹120\n"
   ]
  },
  {
   "cell_type": "code",
   "execution_count": null,
   "id": "6e4ce1c5-ac3c-4ac1-8b33-a3046c11ecb0",
   "metadata": {},
   "outputs": [],
   "source": []
  },
  {
   "cell_type": "code",
   "execution_count": 7,
   "id": "0eea96c2-c25d-4c8a-9ceb-a721c9394d1d",
   "metadata": {},
   "outputs": [
    {
     "name": "stdout",
     "output_type": "stream",
     "text": [
      "Strumming the guitar.\n",
      "Playing the piano.\n"
     ]
    }
   ],
   "source": [
    "# 6) . Demonstrate runtime polymorphism using a method play() in a base class Instrument. \n",
    "# Derive classes Guitar and Piano that implement their own version of play()? \n",
    "\n",
    "# Base class\n",
    "class Instrument:\n",
    "    def play(self):\n",
    "        print(\"Playing an instrument.\")\n",
    "\n",
    "# Derived class\n",
    "class Guitar(Instrument):\n",
    "    def play(self):\n",
    "        print(\"Strumming the guitar.\")\n",
    "\n",
    "# Derived class\n",
    "class Piano(Instrument):\n",
    "    def play(self):\n",
    "        print(\"Playing the piano.\")\n",
    "\n",
    "# Function that accepts any Instrument\n",
    "def start_performance(instrument: Instrument):\n",
    "    instrument.play()  # Polymorphic behavior\n",
    "\n",
    "# Example usage\n",
    "guitar = Guitar()\n",
    "piano = Piano()\n",
    "\n",
    "start_performance(guitar)  # Output: Strumming the guitar.\n",
    "start_performance(piano)   # Output: Playing the piano.\n"
   ]
  },
  {
   "cell_type": "code",
   "execution_count": null,
   "id": "fbdc566c-b2a6-43ae-8882-37bdbe2468df",
   "metadata": {},
   "outputs": [],
   "source": []
  },
  {
   "cell_type": "code",
   "execution_count": 8,
   "id": "a6097987-ae1f-4926-8581-6b90139c078c",
   "metadata": {},
   "outputs": [
    {
     "name": "stdout",
     "output_type": "stream",
     "text": [
      "Sum: 15\n",
      "Difference: 5\n"
     ]
    }
   ],
   "source": [
    "# 7) Create a class MathOperations with a class method add_numbers() to add two numbers \n",
    "# and a static method subtract_numbers() to subtract two numbers.\n",
    "\n",
    "class MathOperations:\n",
    "    @classmethod\n",
    "    def add_numbers(cls, a, b):\n",
    "        return a + b\n",
    "\n",
    "    @staticmethod\n",
    "    def subtract_numbers(a, b):\n",
    "        return a - b\n",
    "\n",
    "# Example usage:\n",
    "sum_result = MathOperations.add_numbers(10, 5)\n",
    "diff_result = MathOperations.subtract_numbers(10, 5)\n",
    "\n",
    "print(f\"Sum: {sum_result}\")        # Output: Sum: 15\n",
    "print(f\"Difference: {diff_result}\") # Output: Difference: 5\n"
   ]
  },
  {
   "cell_type": "code",
   "execution_count": null,
   "id": "7ae0924d-daae-41db-b8a7-a97f1481c7aa",
   "metadata": {},
   "outputs": [],
   "source": []
  },
  {
   "cell_type": "code",
   "execution_count": 9,
   "id": "a99db110-435a-4754-b4f6-105bbb772ff0",
   "metadata": {},
   "outputs": [
    {
     "name": "stdout",
     "output_type": "stream",
     "text": [
      "Total persons created: 3\n"
     ]
    }
   ],
   "source": [
    "# 8) Implement a class Person with a class method to count the total number of persons created? \n",
    "\n",
    "class Person:\n",
    "    count = 0  # Class variable to track number of persons\n",
    "\n",
    "    def __init__(self, name):\n",
    "        self.name = name\n",
    "        Person.count += 1  # Increment count whenever a new object is created\n",
    "\n",
    "    @classmethod\n",
    "    def total_persons(cls):\n",
    "        return cls.count\n",
    "\n",
    "# Example usage:\n",
    "p1 = Person(\"Darshil\")\n",
    "p2 = Person(\"Prince\")\n",
    "p3 = Person(\"Dvyansh\")\n",
    "\n",
    "print(f\"Total persons created: {Person.total_persons()}\")  # Output: Total persons created: 3\n"
   ]
  },
  {
   "cell_type": "code",
   "execution_count": null,
   "id": "a4a67c47-59d3-4d54-b219-394e2f59c135",
   "metadata": {},
   "outputs": [],
   "source": []
  },
  {
   "cell_type": "code",
   "execution_count": 10,
   "id": "fb0210c4-acb8-42fb-b599-e2db05abb51e",
   "metadata": {},
   "outputs": [
    {
     "name": "stdout",
     "output_type": "stream",
     "text": [
      "3/4\n",
      "5/8\n"
     ]
    }
   ],
   "source": [
    "# 9)  Write a class Fraction with attributes numerator and denominator. Override the str method to display the\n",
    "# fraction as \"numerator/denominator\"?\n",
    "\n",
    "class Fraction:\n",
    "    def __init__(self, numerator, denominator):\n",
    "        self.numerator = numerator\n",
    "        self.denominator = denominator\n",
    "\n",
    "    def __str__(self):\n",
    "        return f\"{self.numerator}/{self.denominator}\"\n",
    "\n",
    "# Example usage:\n",
    "f1 = Fraction(3, 4)\n",
    "f2 = Fraction(5, 8)\n",
    "\n",
    "print(f1)  # Output: 3/4\n",
    "print(f2)  # Output: 5/8\n"
   ]
  },
  {
   "cell_type": "code",
   "execution_count": null,
   "id": "4b4a0e11-d8b8-4f73-b112-cbf499915f25",
   "metadata": {},
   "outputs": [],
   "source": []
  },
  {
   "cell_type": "code",
   "execution_count": 11,
   "id": "4b12ed16-b95e-4c18-b808-660a8f7c1c55",
   "metadata": {},
   "outputs": [
    {
     "name": "stdout",
     "output_type": "stream",
     "text": [
      "Vector(2, 3)\n",
      "Vector(4, 5)\n",
      "Vector(6, 8)\n"
     ]
    }
   ],
   "source": [
    "# 10) Demonstrate operator overloading by creating a class Vector and overriding the add method to add two\n",
    "# vectors.\n",
    "\n",
    "class Vector:\n",
    "    def __init__(self, x, y):\n",
    "        self.x = x\n",
    "        self.y = y\n",
    "\n",
    "    # Overloading the + operator\n",
    "    def __add__(self, other):\n",
    "        return Vector(self.x + other.x, self.y + other.y)\n",
    "\n",
    "    def __str__(self):\n",
    "        return f\"Vector({self.x}, {self.y})\"\n",
    "\n",
    "# Example usage:\n",
    "v1 = Vector(2, 3)\n",
    "v2 = Vector(4, 5)\n",
    "v3 = v1 + v2  # Uses the overloaded __add__ method\n",
    "\n",
    "print(v1)  # Output: Vector(2, 3)\n",
    "print(v2)  # Output: Vector(4, 5)\n",
    "print(v3)  # Output: Vector(6, 8)"
   ]
  },
  {
   "cell_type": "code",
   "execution_count": null,
   "id": "0f3a3897-c927-4bde-9c16-5e5feaa00874",
   "metadata": {},
   "outputs": [],
   "source": []
  },
  {
   "cell_type": "code",
   "execution_count": 12,
   "id": "525393fa-d734-460e-a1fd-7e0d7cbcb4fb",
   "metadata": {},
   "outputs": [
    {
     "name": "stdout",
     "output_type": "stream",
     "text": [
      "Hello, my name is Darshil Mathur and I am 21 years old.\n",
      "Hello, my name is Divyansh Chopra and I am 20 years old.\n"
     ]
    }
   ],
   "source": [
    "# 11)  Create a class Person with attributes name and age. Add a method greet() that \n",
    "# prints \"Hello, my name is {name} and I am {age} years old.\"\n",
    "\n",
    "class Person:\n",
    "    def __init__(self, name, age):\n",
    "        self.name = name\n",
    "        self.age = age\n",
    "\n",
    "    def greet(self):\n",
    "        print(f\"Hello, my name is {self.name} and I am {self.age} years old.\")\n",
    "\n",
    "# Example usage:\n",
    "p1 = Person(\"Darshil Mathur\", 21)\n",
    "p2 = Person(\"Divyansh Chopra\", 20)\n",
    "\n",
    "p1.greet()  # Output: Hello, my name is Alice and I am 25 years old.\n",
    "p2.greet()  # Output: Hello, my name is Bob and I am 30 years old.\n"
   ]
  },
  {
   "cell_type": "code",
   "execution_count": null,
   "id": "75d4e399-19e4-48ed-921b-cc964dbe2946",
   "metadata": {},
   "outputs": [],
   "source": []
  },
  {
   "cell_type": "code",
   "execution_count": 13,
   "id": "9ae4b444-a4a9-4b01-bcc3-3b3be66982d3",
   "metadata": {},
   "outputs": [
    {
     "name": "stdout",
     "output_type": "stream",
     "text": [
      "Darshil's average grade: 84.33\n",
      "Prince's average grade: 88.50\n"
     ]
    }
   ],
   "source": [
    "# 12) Implement a class Student with attributes name and grades. Create a method average_grade() to compute\n",
    "# the average of the grades.\n",
    "\n",
    "class Student:\n",
    "    def __init__(self, name, grades):\n",
    "        self.name = name\n",
    "        self.grades = grades  # Expecting a list of numbers\n",
    "\n",
    "    def average_grade(self):\n",
    "        if not self.grades:\n",
    "            return 0\n",
    "        return sum(self.grades) / len(self.grades)\n",
    "\n",
    "# Example usage:\n",
    "student1 = Student(\"Darshil\", [85, 90, 78])\n",
    "student2 = Student(\"Prince\", [92, 88, 79, 95])\n",
    "\n",
    "print(f\"{student1.name}'s average grade: {student1.average_grade():.2f}\")  # Output: 84.33\n",
    "print(f\"{student2.name}'s average grade: {student2.average_grade():.2f}\")  # Output: 88.50\n"
   ]
  },
  {
   "cell_type": "code",
   "execution_count": null,
   "id": "300ecb69-142a-421f-9bf0-5bb8be026a58",
   "metadata": {},
   "outputs": [],
   "source": []
  },
  {
   "cell_type": "code",
   "execution_count": null,
   "id": "66628ca3-871a-45f8-8713-d29bb8e0571e",
   "metadata": {},
   "outputs": [],
   "source": []
  }
 ],
 "metadata": {
  "kernelspec": {
   "display_name": "Python 3 (ipykernel)",
   "language": "python",
   "name": "python3"
  },
  "language_info": {
   "codemirror_mode": {
    "name": "ipython",
    "version": 3
   },
   "file_extension": ".py",
   "mimetype": "text/x-python",
   "name": "python",
   "nbconvert_exporter": "python",
   "pygments_lexer": "ipython3",
   "version": "3.13.3"
  }
 },
 "nbformat": 4,
 "nbformat_minor": 5
}
